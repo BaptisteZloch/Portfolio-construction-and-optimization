{
 "cells": [
  {
   "attachments": {},
   "cell_type": "markdown",
   "metadata": {},
   "source": [
    "# Capital Asset Pricing Model (CAPM)\n",
    "\n",
    "Formula \n",
    "$$\n",
    "E(R_i)=R_f+\\beta(E(R_m)-R_f)\n",
    "$$\n",
    "$E(R_i)$ capital asset expected return <br>\n",
    "$R_f$ risk-free rate of interest <br>\n",
    "$\\beta$ sensitivity <br>\n",
    "$E(R_m)$ expected market return<br>\n",
    "\n",
    "To find $\\beta$ and $\\alpha_i$ we need to compute the linear regression between the market daily return and our asset daily return.\n",
    "\n",
    "$$R_i=\\beta\\times R_m+\\alpha"
   ]
  },
  {
   "cell_type": "code",
   "execution_count": null,
   "metadata": {},
   "outputs": [],
   "source": []
  }
 ],
 "metadata": {
  "language_info": {
   "name": "python"
  },
  "orig_nbformat": 4
 },
 "nbformat": 4,
 "nbformat_minor": 2
}
