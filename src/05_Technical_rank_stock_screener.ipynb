{
 "cells": [
  {
   "cell_type": "code",
   "execution_count": 1,
   "metadata": {},
   "outputs": [],
   "source": [
    "import numpy as np\n",
    "import pandas as pd\n",
    "import yfinance as yf"
   ]
  },
  {
   "cell_type": "code",
   "execution_count": null,
   "metadata": {},
   "outputs": [],
   "source": [
    "# Download data\n",
    "tech_tickers = [\"AAPL\", \"MSFT\", \"AMZN\", \"GOOG\"]\n",
    "bank_tickers = [\"JPM\", \"BAC\", \"GS\", \"MS\"]\n",
    "finance_tickers = [\"MA\", \"AXP\"]\n",
    "\n",
    "tech_data = yf.download(tech_tickers, start=\"2015-01-01\", end=\"2023-03-01\")[\"Adj Close\"]\n",
    "finance_data = yf.download(finance_tickers, start=\"2015-01-01\", end=\"2023-03-01\")[\n",
    "    \"Adj Close\"\n",
    "]\n",
    "bank_data = yf.download(bank_tickers, start=\"2015-01-01\", end=\"2023-03-01\")[\"Adj Close\"]\n",
    "\n",
    "# Combine data into a single DataFrame\n",
    "data = pd.concat([tech_data, finance_data, bank_data], axis=1)\n",
    "data.columns = [\"AAPL\", \"MSFT\", \"AMZN\", \"GOOG\", \"JPM\", \"BAC\", \"GS\", \"MS\", \"MA\", \"AXP\"]\n",
    "data\n"
   ]
  },
  {
   "cell_type": "code",
   "execution_count": 5,
   "metadata": {},
   "outputs": [
    {
     "name": "stdout",
     "output_type": "stream",
     "text": [
      "[*********************100%***********************]  2 of 2 completed\n"
     ]
    }
   ],
   "source": [
    "df = yf.download(['AAPL',\"MS\"], start=\"2015-01-01\", end=\"2023-03-01\")"
   ]
  },
  {
   "cell_type": "code",
   "execution_count": 4,
   "metadata": {},
   "outputs": [
    {
     "data": {
      "text/plain": [
       "Date\n",
       "2015-01-02    52.500000\n",
       "2015-01-05    46.256575\n",
       "2015-01-06    45.947592\n",
       "2015-01-07    48.633040\n",
       "2015-01-08    52.451640\n",
       "                ...    \n",
       "2023-02-22    47.669109\n",
       "2023-02-23    48.267586\n",
       "2023-02-24    45.807649\n",
       "2023-02-27    47.508772\n",
       "2023-02-28    48.007746\n",
       "Length: 2053, dtype: float64"
      ]
     },
     "execution_count": 4,
     "metadata": {},
     "output_type": "execute_result"
    }
   ],
   "source": [
    "from modules.screener import StockScorer\n",
    "\n",
    "StockScorer.score(df)"
   ]
  },
  {
   "cell_type": "code",
   "execution_count": null,
   "metadata": {},
   "outputs": [],
   "source": []
  }
 ],
 "metadata": {
  "kernelspec": {
   "display_name": ".venv",
   "language": "python",
   "name": "python3"
  },
  "language_info": {
   "codemirror_mode": {
    "name": "ipython",
    "version": 3
   },
   "file_extension": ".py",
   "mimetype": "text/x-python",
   "name": "python",
   "nbconvert_exporter": "python",
   "pygments_lexer": "ipython3",
   "version": "3.10.6"
  },
  "orig_nbformat": 4
 },
 "nbformat": 4,
 "nbformat_minor": 2
}
