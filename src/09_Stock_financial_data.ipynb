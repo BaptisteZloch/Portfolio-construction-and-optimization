{
 "cells": [
  {
   "cell_type": "code",
   "execution_count": 6,
   "metadata": {},
   "outputs": [
    {
     "name": "stdout",
     "output_type": "stream",
     "text": [
      "Dataset \"us-shareprices-quarterly\" not on disk.\n"
     ]
    },
    {
     "ename": "ServerException",
     "evalue": "Dataset not found",
     "output_type": "error",
     "traceback": [
      "\u001b[0;31m---------------------------------------------------------------------------\u001b[0m",
      "\u001b[0;31mServerException\u001b[0m                           Traceback (most recent call last)",
      "Cell \u001b[0;32mIn[6], line 14\u001b[0m\n\u001b[1;32m     10\u001b[0m sf\u001b[39m.\u001b[39mset_data_dir(\u001b[39m'\u001b[39m\u001b[39m./simfin_data/\u001b[39m\u001b[39m'\u001b[39m)\n\u001b[1;32m     12\u001b[0m \u001b[39m# Load the annual Income Statements for all companies in the US.\u001b[39;00m\n\u001b[1;32m     13\u001b[0m \u001b[39m# The data is automatically downloaded if you don't have it already.\u001b[39;00m\n\u001b[0;32m---> 14\u001b[0m df \u001b[39m=\u001b[39m sf\u001b[39m.\u001b[39;49mload_shareprices(variant\u001b[39m=\u001b[39;49m\u001b[39m'\u001b[39;49m\u001b[39mquarterly\u001b[39;49m\u001b[39m'\u001b[39;49m, market\u001b[39m=\u001b[39;49m\u001b[39m'\u001b[39;49m\u001b[39mus\u001b[39;49m\u001b[39m'\u001b[39;49m) \u001b[39m#.load_income(variant='quarterly', market='us')\u001b[39;00m\n\u001b[1;32m     15\u001b[0m df\n",
      "File \u001b[0;32m~/myworkdir/Portfolio-construction-and-optimization/.venv/lib/python3.10/site-packages/simfin/load.py:140\u001b[0m, in \u001b[0;36mload\u001b[0;34m(dataset, variant, market, start_date, end_date, parse_dates, index, refresh_days)\u001b[0m\n\u001b[1;32m    137\u001b[0m dataset_args \u001b[39m=\u001b[39m {\u001b[39m'\u001b[39m\u001b[39mdataset\u001b[39m\u001b[39m'\u001b[39m: dataset, \u001b[39m'\u001b[39m\u001b[39mvariant\u001b[39m\u001b[39m'\u001b[39m: variant, \u001b[39m'\u001b[39m\u001b[39mmarket\u001b[39m\u001b[39m'\u001b[39m: market}\n\u001b[1;32m    139\u001b[0m \u001b[39m# Download file if it does not exist on local disk, or if it is too old.\u001b[39;00m\n\u001b[0;32m--> 140\u001b[0m _maybe_download_dataset(\u001b[39m*\u001b[39;49m\u001b[39m*\u001b[39;49mdataset_args, refresh_days\u001b[39m=\u001b[39;49mrefresh_days)\n\u001b[1;32m    142\u001b[0m \u001b[39m# Lambda function for converting strings to dates. Format: YYYY-MM-DD\u001b[39;00m\n\u001b[1;32m    143\u001b[0m date_parser \u001b[39m=\u001b[39m \u001b[39mlambda\u001b[39;00m x: pd\u001b[39m.\u001b[39mto_datetime(x, yearfirst\u001b[39m=\u001b[39m\u001b[39mTrue\u001b[39;00m, dayfirst\u001b[39m=\u001b[39m\u001b[39mFalse\u001b[39;00m)\n",
      "File \u001b[0;32m~/myworkdir/Portfolio-construction-and-optimization/.venv/lib/python3.10/site-packages/simfin/download.py:296\u001b[0m, in \u001b[0;36m_maybe_download_dataset\u001b[0;34m(refresh_days, **kwargs)\u001b[0m\n\u001b[1;32m    293\u001b[0m \u001b[39m# URL to SimFin's server where the file is located.\u001b[39;00m\n\u001b[1;32m    294\u001b[0m url \u001b[39m=\u001b[39m _url_dataset(\u001b[39m*\u001b[39m\u001b[39m*\u001b[39mkwargs)\n\u001b[0;32m--> 296\u001b[0m \u001b[39mreturn\u001b[39;00m _maybe_download(name\u001b[39m=\u001b[39;49mdataset_name, path\u001b[39m=\u001b[39;49mpath,\n\u001b[1;32m    297\u001b[0m                        download_path\u001b[39m=\u001b[39;49mdownload_path,\n\u001b[1;32m    298\u001b[0m                        url\u001b[39m=\u001b[39;49murl, headers\u001b[39m=\u001b[39;49mheaders, refresh_days\u001b[39m=\u001b[39;49mrefresh_days)\n",
      "File \u001b[0;32m~/myworkdir/Portfolio-construction-and-optimization/.venv/lib/python3.10/site-packages/simfin/download.py:242\u001b[0m, in \u001b[0;36m_maybe_download\u001b[0;34m(name, url, headers, path, download_path, refresh_days)\u001b[0m\n\u001b[1;32m    237\u001b[0m \u001b[39mprint\u001b[39m(msg)\n\u001b[1;32m    239\u001b[0m \u001b[39mif\u001b[39;00m must_download:\n\u001b[1;32m    240\u001b[0m     \u001b[39m# Download the file from the SimFin server.\u001b[39;00m\n\u001b[1;32m    241\u001b[0m     \u001b[39m# This is assumed to succeed unless an exception is raised.\u001b[39;00m\n\u001b[0;32m--> 242\u001b[0m     _download(url\u001b[39m=\u001b[39;49murl, headers\u001b[39m=\u001b[39;49mheaders, download_path\u001b[39m=\u001b[39;49mdownload_path)\n\u001b[1;32m    244\u001b[0m     \u001b[39mif\u001b[39;00m download_path\u001b[39m.\u001b[39mendswith(\u001b[39m'\u001b[39m\u001b[39mzip\u001b[39m\u001b[39m'\u001b[39m):\n\u001b[1;32m    245\u001b[0m         \u001b[39m# Downloaded file must be unzipped into the data-dir.\u001b[39;00m\n\u001b[1;32m    246\u001b[0m \n\u001b[1;32m    247\u001b[0m         \u001b[39m# Print status message.\u001b[39;00m\n\u001b[1;32m    248\u001b[0m         \u001b[39mprint\u001b[39m(\u001b[39m'\u001b[39m\u001b[39m\\n\u001b[39;00m\u001b[39m- Extracting zip-file ... \u001b[39m\u001b[39m'\u001b[39m, end\u001b[39m=\u001b[39m\u001b[39m'\u001b[39m\u001b[39m'\u001b[39m)\n",
      "File \u001b[0;32m~/myworkdir/Portfolio-construction-and-optimization/.venv/lib/python3.10/site-packages/simfin/download.py:170\u001b[0m, in \u001b[0;36m_download\u001b[0;34m(url, headers, download_path)\u001b[0m\n\u001b[1;32m    167\u001b[0m     error \u001b[39m=\u001b[39m response\u001b[39m.\u001b[39mjson()[\u001b[39m'\u001b[39m\u001b[39merror\u001b[39m\u001b[39m'\u001b[39m]\n\u001b[1;32m    169\u001b[0m     \u001b[39m# Raise exception with the error message from the server.\u001b[39;00m\n\u001b[0;32m--> 170\u001b[0m     \u001b[39mraise\u001b[39;00m ServerException(error)\n\u001b[1;32m    172\u001b[0m \u001b[39m# Or if another error occurred.\u001b[39;00m\n\u001b[1;32m    173\u001b[0m \u001b[39melse\u001b[39;00m:\n\u001b[1;32m    174\u001b[0m     \u001b[39m# Raise the error as an exception.\u001b[39;00m\n\u001b[1;32m    175\u001b[0m     response\u001b[39m.\u001b[39mraise_for_status()\n",
      "\u001b[0;31mServerException\u001b[0m: Dataset not found"
     ]
    }
   ],
   "source": [
    "import simfin as sf\n",
    "from simfin.names import *\n",
    "\n",
    "# Set your API-key for downloading data.\n",
    "# Replace YOUR_API_KEY with your actual API-key.\n",
    "sf.set_api_key('e1df9f4a-990b-4c67-ad4f-60c57032004b')\n",
    "\n",
    "# Set the local directory where data-files are stored.\n",
    "# The dir will be created if it does not already exist.\n",
    "sf.set_data_dir('./simfin_data/')\n",
    "\n",
    "# Load the annual Income Statements for all companies in the US.\n",
    "# The data is automatically downloaded if you don't have it already.\n",
    "df = sf.load_income(variant='quarterly', market='us')\n",
    "df"
   ]
  },
  {
   "cell_type": "code",
   "execution_count": null,
   "metadata": {},
   "outputs": [],
   "source": []
  }
 ],
 "metadata": {
  "kernelspec": {
   "display_name": ".venv",
   "language": "python",
   "name": "python3"
  },
  "language_info": {
   "codemirror_mode": {
    "name": "ipython",
    "version": 3
   },
   "file_extension": ".py",
   "mimetype": "text/x-python",
   "name": "python",
   "nbconvert_exporter": "python",
   "pygments_lexer": "ipython3",
   "version": "3.10.6"
  },
  "orig_nbformat": 4
 },
 "nbformat": 4,
 "nbformat_minor": 2
}
